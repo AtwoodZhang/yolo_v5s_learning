{
 "cells": [
  {
   "cell_type": "code",
   "execution_count": 1,
   "metadata": {},
   "outputs": [],
   "source": [
    "import os\n",
    "import numpy as np\n",
    "import cv2"
   ]
  },
  {
   "cell_type": "code",
   "execution_count": 2,
   "metadata": {},
   "outputs": [],
   "source": [
    "def sigmoid(x):\n",
    "    return 1/(1+np.exp(-x))"
   ]
  },
  {
   "cell_type": "code",
   "execution_count": null,
   "metadata": {},
   "outputs": [],
   "source": [
    "def xywh2xyxy(x):\n",
    "    # convert [x, y, w, h] to [x1, y1, x2, y2]\n",
    "    y = np.conpy(x)\n",
    "    y[:, 0] = x[:, 0] - x[:, 2] / 2  # top left x\n",
    "    y[:, 1] = x[:, 1] - x[:, 3] / 2  # top left y\n",
    "    y[:, 2] = x[:, 0] + x[:, 2] / 2  # bottom right x\n",
    "    y[:, 3] = x[:, 1] + x[:, 3] / 2  # bottom right y\n",
    "    return y\n",
    "\n",
    "def process(input, mask, anchors):\n",
    "    anchors = [anchors[i] for i in mask]\n",
    "    grid_h, grid_w = map(int, input.shape[0:2])\n",
    "    \n",
    "    box_confidence = sigmoid(input[..., 4])\n",
    "    "
   ]
  },
  {
   "cell_type": "code",
   "execution_count": null,
   "metadata": {},
   "outputs": [],
   "source": [
    "if __name__ == \"__main__\":\n",
    "    ONNX_MODEL = 'yolov5s.onnx'\n",
    "    MODEL_NAME = \"\"\n",
    "    RKNN_MODEL = f\"\"\n",
    "    IMG_PATH = \"./phone\"\n",
    "    SAVE_PATH = \"./save\"\n",
    "    BOX_THRESH=0.2\n",
    "    NMS_THRESH=0.6\n",
    "    IMG_SIZE=640  # 目前改为了320\n",
    "    CLASSES={\"person\", \"phone\"}\n",
    "    masks = []"
   ]
  }
 ],
 "metadata": {
  "kernelspec": {
   "display_name": "Python 3.10.6 ('GPUtest')",
   "language": "python",
   "name": "python3"
  },
  "language_info": {
   "codemirror_mode": {
    "name": "ipython",
    "version": 3
   },
   "file_extension": ".py",
   "mimetype": "text/x-python",
   "name": "python",
   "nbconvert_exporter": "python",
   "pygments_lexer": "ipython3",
   "version": "3.10.6"
  },
  "orig_nbformat": 4,
  "vscode": {
   "interpreter": {
    "hash": "08b7be85ae380c1079032f382ef4f27851034762a5c647315e8f3b735d5a24fa"
   }
  }
 },
 "nbformat": 4,
 "nbformat_minor": 2
}
